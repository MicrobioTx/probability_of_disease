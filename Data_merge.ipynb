{
 "cells": [
  {
   "cell_type": "code",
   "execution_count": 1,
   "id": "2ea1b3b4-a64d-49b6-938a-db6d69701a8b",
   "metadata": {},
   "outputs": [
    {
     "name": "stdout",
     "output_type": "stream",
     "text": [
      "Common Genus: 181\n",
      "Common Genus: ['Defluviitaleaceae_UCG-011', 'Ruminobacter', 'Uruburuella', 'Olsenella', 'Rothia', 'Morganella', 'Candidatus_Soleaferrea', 'Pseudobutyrivibrio', 'Flavonifractor', 'Colidextribacter', 'Campylobacter', 'Neptuniibacter', 'Salmonella', 'Odoribacter', 'Solobacterium', 'Catenibacterium', 'Escherichia', 'Kluyvera', 'Tannerella', 'Streptococcus', 'Clostridium', 'Ruminiclostridium', 'Parasutterella', 'UCG-005', 'Marvinbryantia', 'Providencia', 'Weissella', 'Dialister', 'Oscillibacter', 'Sporobacterium', 'Robinsoniella', 'Libanicoccus', 'Brevundimonas', 'Plesiomonas', 'Asteroleplasma', 'Sphingomonas', 'Fusobacterium', 'Acidaminococcus', 'Lachnobacterium', 'Tyzzerella', 'Ferrimonas', 'Alistipes', 'Bulleidia', 'Pyramidobacter', 'Butyricimonas', 'Paraprevotella', 'Christensenellaceae_R-7_group', 'Yersinia', 'Holdemania', 'Gemmiger', 'Leuconostoc', 'Monoglobus', 'Megamonas', 'Oxalobacter', 'Blautia', 'Elusimicrobium', 'Enterococcus', 'CAG-352', 'Thiomicrospira', 'Gastranaerophilales', 'Butyricicoccus', 'Klebsiella', 'Coprobacter', 'UCG-003', 'Veillonella', 'Dechloromonas', 'Paraclostridium', 'Phytobacter', 'Phascolarctobacterium', 'Shewanella', 'Muribaculaceae', 'Mannheimia', 'Photobacterium', 'Mangrovibacter', 'Succinivibrio', 'Turicibacter', 'Agathobacter', 'Methylobacterium-Methylorubrum', 'Bifidobacterium', 'Barnesiella', 'Romboutsia', 'Chryseobacterium', 'Alicycliphilus', 'Acetanaerobacterium', 'Enterobacter', 'Fusicatenibacter', 'Citrobacter', 'Victivallis', 'UCG-010', 'Eggerthella', 'Aggregatibacter', 'Allisonella', 'Roseburia', 'Actinobacillus', 'Pseudoflavonifractor', 'Raoultella', 'Selenomonas', 'Paracoccus', 'RF39', 'Pectobacterium', 'Shigella', 'Hungatella', 'Sutterella', 'Coriobacteriaceae_UCG-003', 'Cronobacter', 'Treponema', 'Faecalibacterium', 'UCG-004', 'Desulfovibrio', 'Parabacteroides', 'Coprococcus', 'Haemophilus', 'Helicobacter', 'Lactococcus', 'Dorea', 'Slackia', 'Yokenella', 'Neisseria', 'Lachnospiraceae_UCG-010', 'Anaeroplasma', 'Negativicoccus', 'Atopobium', 'Fournierella', 'Howardella', 'Family_XIII_UCG-001', 'Pelistega', 'Collinsella', 'Prevotella', 'Pantoea', 'Xenorhabdus', 'Serratia', 'Sphingobacterium', 'Leclercia', 'Coprobacillus', 'Comamonas', 'NK4A214_group', 'CAG-56', 'Izemoplasmatales', 'Rikenellaceae_RC9_gut_group', 'Tatumella', 'Akkermansia', 'Bilophila', 'Bacteroides', 'Acinetobacter', 'Megasphaera', 'Alloprevotella', 'Corynebacterium', 'Subdoligranulum', 'Mitsuokella', 'Butyrivibrio', 'Gemella', 'Anaerobiospirillum', 'Moryella', 'Ruminococcus', 'Pseudomonas', 'Sarcina', 'Aeromonas', 'GCA-900066575', 'Peptococcus', 'UCG-002', 'Senegalimassilia', 'Lactobacillus', 'Anaerostipes', 'Peptoniphilus', 'Herbaspirillum', 'Granulicatella', 'UCG-009', 'Incertae_Sedis', 'Eubacterium', 'Methanobrevibacter', 'Lachnoclostridium', 'Trabulsiella', 'Erysipelatoclostridium', 'Escherichia-Shigella', 'Erwinia', 'Syntrophococcus', 'Avibacterium', 'Holdemanella', 'Intestinibacter', 'Oribacterium', 'Porphyromonas']\n",
      "****************************************************************************************************\n",
      "----------------------------------------------------------------------------------------------------\n",
      "Uncommon Genus in File 1: []\n",
      "Uncommon Genus in File 2: ['Agromyces', 'Bradyrhizobium', 'Roseicyclus', 'Marinobacterium', 'Pseudoxanthomonas', 'Pediococcus', 'UG1', 'Tissierella', 'Pseudoramibacter', 'Pseudoclavibacter', 'Acidovorax', 'possible', 'Kingella', 'Gallibacterium', 'Anaerococcus', 'Anaerobacter', 'Brachyspira', 'Kocuria', 'Cutibacterium', 'Christensenella', 'Papillibacter', 'Catabacter', 'Lysobacter', 'Actimicrobium', 'Propionicicella', 'Coprothermobacter', 'Pygmaiobacter', 'Saccharofermentans', 'Finegoldia', 'Ruminococcus2', 'Acidiphilium', 'Propionibacterium', 'Lelliottia', 'Maribacter', 'Sterolibacterium', 'Thioalkalivibrio', 'Pseudogulbenkiania', 'Aquamicrobium', 'Oceanobacillus', 'Kineosporia', 'Scardovia', 'Ochrobactrum', 'Sneathiella', 'Saccharibacteria_genera_incertae_sedis', 'Insolitispirillum', 'Dysgonomonas', 'Acidipila', 'Paraeggerthella', 'Virgibacillus', 'Magnetospirillum', 'Rummeliibacillus', 'Anaerospora', 'Acholeplasma', 'horsej.a03', 'Oligella', 'Pannonibacter', 'Dielma', 'Mucispirillum', 'Anoxybacillus', 'Lactonifactor', 'Devosia', 'Rheinheimera', 'Piscicoccus', 'Mobilitalea', 'Lachnospiracea_incertae_sedis', 'Dyella', 'Stenotrophomonas', 'Altererythrobacter', 'Ezakiella', 'Murimonas', 'Thermus', 'Halocella', 'Clostridium_XlVa', 'UG8', 'UBA1819', 'Thalassospira', 'Actinomyces', 'Bacillus', 'Mesorhizobium', 'Undibacterium', 'Clostridium_sensu_stricto', 'X.Eubacterium.', 'Facklamia', 'Acetobacter', 'Capnocytophaga', 'Anaerocolumna', 'Asaccharospora', 'Parascardovia', 'Alcanivorax', 'Bosea', 'Flavobacterium', 'Thauera', 'Methanobacterium', 'Actinobaculum', 'Bordetella', 'Leucobacter', 'Hydrotalea', 'X.Bacteroides.', 'Roseovarius', 'UG9', 'Acetivibrio', 'Intestinimonas', 'Stomatobaculum', 'Fastidiosipila', 'Simonsiella', 'Rhizobium', 'Empedobacter', 'Sedimentibacter', 'Varibaculum', 'UG4', 'X.Clostridium.', 'Saccharothrix', 'Rhodanobacter', 'Ramlibacter', 'Lawsonella', 'Cloacibacterium', 'Ensifer', 'Daeguia', 'Erysipelotrichaceae_incertae_sedis', 'Brevibacillus', 'Cloacibacillus', 'Shuttleworthia', 'Escherichia_Shigella', 'Collimonas', 'Cetobacterium', 'Pasteurella', 'Azospirillum', 'Alicyclobacillus', 'Kosakonia', 'CAG.352', 'DTU089', 'Moraxella', 'Lentibacillus', 'Deinococcus', 'Desulfotignum', 'Turicella', 'Syntrophomonas', 'Peptostreptococcus', 'Acidithiobacillus', 'A2', 'Acidiferrobacter', 'Zoogloea', 'GCA.900066755', 'Helcococcus', 'Idiomarina', 'Aquitalea', 'Marinobacter', 'FD2005', 'Escherichia.Shigella', 'Caulobacter', 'Eisenbergiella', 'Thiovirga', 'Faecalibaculum', 'Sediminibacterium', 'GCA.900066575', 'Obesumbacterium', 'Petrobacter', 'Kiloniella', 'Vasilyevaea', 'Candidatus', 'Murdochiella', 'probable', 'Jonquetella', 'Mucilaginibacter', 'Dickeya', 'Fibrobacter', 'Filifactor', 'UG2', 'Xanthobacter', 'Franconibacter', 'Centipeda', 'Streptophyta', 'Micrococcus', 'Anaerotruncus', 'Blastococcus', 'Hyphomonas', 'Halothiobacillus', 'Pelagicola', 'Opitutus', 'Anaerofilum', 'Methylotenera', 'Marmoricola', 'Buttiauxella', 'dgA.11', 'Geobacillus', 'Nocardioides', 'Thermomonas', 'Epulopiscium', 'Colwellia', 'Dolosigranulum', 'Alkaliphilus', 'Adlercreutzia', 'Shimwellia', 'Parvimonas', 'Luteibacter', 'X.Ruminococcus.', 'Hespellia', 'Castellaniella', 'Erythromicrobium', 'Cardiobacterium', 'UG5', 'Geobacter', 'Enterorhabdus', 'Arcobacter', 'Fretibacterium', 'Flavisolibacter', 'Mycoplana', 'Microvirga', 'UG3', 'Dietzia', 'Arthrobacter', 'Sneathia', 'Succinatimonas', 'Thiobacillus', 'Anaerosporobacter', 'Alkanindiges', 'Gordonibacter', 'Kandleria', 'Kytococcus', 'Novosphingobium', 'CAG.56', 'Fusibacter', 'Yonghaparkia', 'Haliea', 'Kineococcus', 'Catonella', 'Negativibacillus', 'Frateuria', 'Vibrio', 'Pelomonas', 'Acetatifactor', 'Methylobacillus', 'Clostridium_XI', 'Limnobacter', 'Aeribacillus', 'Pseudacidovorax', 'Lachnoanaerobaculum', 'Eggerthia', 'Skermanella', 'UG7', 'Oscillospira', 'Azospira', 'Brevibacterium', 'GCA.900066225', 'Solibacillus', 'Camelimonas', 'Rhizobacter', 'Porphyrobacter', 'Salinicola', 'Leptotrichia', 'Angelakisella', 'Caldicellulosiruptor', 'Gardnerella', 'Leptospirillum', 'Hydrogenoanaerobacterium', 'Hydrogenispora', 'Herbinix', 'Vagococcus', 'Terrisporobacter', 'Pseudoduganella', 'Paeniclostridium', 'Dermabacter', 'Laribacter', 'Methylophilus', 'Halomonas', 'Thalassobius', 'Caproiciproducens', 'Alcaligenes', 'Sulfurimonas', 'Sporacetigenium', 'Magnetovibrio', 'Azovibrio', 'Ralstonia', 'Terasakiella', 'Clostridium_XlVb', 'ASF356', 'Enorma', 'Limnohabitans', 'Afipia', 'Tenacibaculum', 'Anaerovibrio', 'Thermincola', 'Actinomycetospora', 'Sideroxydans', 'Anaerovorax', 'Schwartzia', 'Staphylococcus', 'Clostridium_IV', 'Advenella', 'Prosthecobacter', 'Lachnospira', 'Luteimonas', 'Anaerobium', 'Alteromonas', 'Gracilibacillus', 'Family', 'Methylophaga', 'Abiotrophia', 'UG11', 'Alloscardovia', 'Anaeroglobus', 'UG6', 'CAG.873', 'Rubellimicrobium', 'Burkholderia', 'Synergistes', 'Sellimonas', 'Hallella', 'Nesterenkonia', 'Phenylobacterium', 'Peptoclostridium', 'Anaerobaculum', 'Aureimonas', 'Pluralibacter', 'Anaerofustis', 'Acidisphaera', 'Meiothermus', 'Aerococcus', 'UG10', 'Asaccharobacter', 'Brachymonas', 'Methylobacterium', 'Cellvibrio', 'Succiniclasticum', 'Incertae', 'Cellulosilyticum', 'Hathewaya', 'Acetitomaculum', 'Rubritepida']\n"
     ]
    }
   ],
   "source": [
    "import pandas as pd\n",
    "\n",
    "# Load the Excel files\n",
    "df1 = pd.read_csv(\"relative_abundance_genus_Our Raw Genus Data.csv\")\n",
    "df2 = pd.read_csv(\"Final_combined_T1_Control genus_abundance.csv\")\n",
    "\n",
    "# Assuming 'genus' is the column name that contains the genus names\n",
    "genus_list_1 = set(df1['Genus'].unique())\n",
    "genus_list_2 = set(df2['Genus'].unique())\n",
    "\n",
    "# Find common and uncommon genus\n",
    "common_genus = list(genus_list_1.intersection(genus_list_2))\n",
    "uncommon_genus_1 = list(genus_list_1.difference(genus_list_2))\n",
    "uncommon_genus_2 = list(genus_list_2.difference(genus_list_1))\n",
    "\n",
    "# Output results as lists\n",
    "print('Common Genus:', len(common_genus))\n",
    "print('Common Genus:', common_genus)\n",
    "print(\"*\"*100)\n",
    "print(\"-\"*100)\n",
    "print('Uncommon Genus in File 1:', uncommon_genus_1)\n",
    "print('Uncommon Genus in File 2:', uncommon_genus_2)\n"
   ]
  },
  {
   "cell_type": "code",
   "execution_count": 2,
   "id": "2a7d16f0-74b8-4622-9cc4-905330068019",
   "metadata": {},
   "outputs": [
    {
     "name": "stdout",
     "output_type": "stream",
     "text": [
      "Common Genus: 181\n",
      "Common Genus: ['Defluviitaleaceae_UCG-011', 'Ruminobacter', 'Uruburuella', 'Olsenella', 'Rothia', 'Morganella', 'Candidatus_Soleaferrea', 'Pseudobutyrivibrio', 'Flavonifractor', 'Colidextribacter', 'Campylobacter', 'Neptuniibacter', 'Salmonella', 'Odoribacter', 'Solobacterium', 'Catenibacterium', 'Escherichia', 'Kluyvera', 'Tannerella', 'Streptococcus', 'Clostridium', 'Ruminiclostridium', 'Parasutterella', 'UCG-005', 'Marvinbryantia', 'Providencia', 'Weissella', 'Dialister', 'Oscillibacter', 'Sporobacterium', 'Robinsoniella', 'Libanicoccus', 'Brevundimonas', 'Plesiomonas', 'Asteroleplasma', 'Sphingomonas', 'Fusobacterium', 'Acidaminococcus', 'Lachnobacterium', 'Tyzzerella', 'Ferrimonas', 'Alistipes', 'Bulleidia', 'Pyramidobacter', 'Butyricimonas', 'Paraprevotella', 'Christensenellaceae_R-7_group', 'Yersinia', 'Holdemania', 'Gemmiger', 'Leuconostoc', 'Monoglobus', 'Megamonas', 'Oxalobacter', 'Blautia', 'Elusimicrobium', 'Enterococcus', 'CAG-352', 'Thiomicrospira', 'Gastranaerophilales', 'Butyricicoccus', 'Klebsiella', 'Coprobacter', 'UCG-003', 'Veillonella', 'Dechloromonas', 'Paraclostridium', 'Phytobacter', 'Phascolarctobacterium', 'Shewanella', 'Muribaculaceae', 'Mannheimia', 'Photobacterium', 'Mangrovibacter', 'Succinivibrio', 'Turicibacter', 'Agathobacter', 'Methylobacterium-Methylorubrum', 'Bifidobacterium', 'Barnesiella', 'Romboutsia', 'Chryseobacterium', 'Alicycliphilus', 'Acetanaerobacterium', 'Enterobacter', 'Fusicatenibacter', 'Citrobacter', 'Victivallis', 'UCG-010', 'Eggerthella', 'Aggregatibacter', 'Allisonella', 'Roseburia', 'Actinobacillus', 'Pseudoflavonifractor', 'Raoultella', 'Selenomonas', 'Paracoccus', 'RF39', 'Pectobacterium', 'Shigella', 'Hungatella', 'Sutterella', 'Coriobacteriaceae_UCG-003', 'Cronobacter', 'Treponema', 'Faecalibacterium', 'UCG-004', 'Desulfovibrio', 'Parabacteroides', 'Coprococcus', 'Haemophilus', 'Helicobacter', 'Lactococcus', 'Dorea', 'Slackia', 'Yokenella', 'Neisseria', 'Lachnospiraceae_UCG-010', 'Anaeroplasma', 'Negativicoccus', 'Atopobium', 'Fournierella', 'Howardella', 'Family_XIII_UCG-001', 'Pelistega', 'Collinsella', 'Prevotella', 'Pantoea', 'Xenorhabdus', 'Serratia', 'Sphingobacterium', 'Leclercia', 'Coprobacillus', 'Comamonas', 'NK4A214_group', 'CAG-56', 'Izemoplasmatales', 'Rikenellaceae_RC9_gut_group', 'Tatumella', 'Akkermansia', 'Bilophila', 'Bacteroides', 'Acinetobacter', 'Megasphaera', 'Alloprevotella', 'Corynebacterium', 'Subdoligranulum', 'Mitsuokella', 'Butyrivibrio', 'Gemella', 'Anaerobiospirillum', 'Moryella', 'Ruminococcus', 'Pseudomonas', 'Sarcina', 'Aeromonas', 'GCA-900066575', 'Peptococcus', 'UCG-002', 'Senegalimassilia', 'Lactobacillus', 'Anaerostipes', 'Peptoniphilus', 'Herbaspirillum', 'Granulicatella', 'UCG-009', 'Incertae_Sedis', 'Eubacterium', 'Methanobrevibacter', 'Lachnoclostridium', 'Trabulsiella', 'Erysipelatoclostridium', 'Escherichia-Shigella', 'Erwinia', 'Syntrophococcus', 'Avibacterium', 'Holdemanella', 'Intestinibacter', 'Oribacterium', 'Porphyromonas']\n",
      "******************************************************************************************************************************************************\n",
      "------------------------------------------------------------------------------------------------------------------------------------------------------\n",
      "UnCommon Genus: 329\n",
      "Uncommon Genus (in File 2 but not in File 1): ['Agromyces', 'Bradyrhizobium', 'Roseicyclus', 'Marinobacterium', 'Pseudoxanthomonas', 'Pediococcus', 'UG1', 'Tissierella', 'Pseudoramibacter', 'Pseudoclavibacter', 'Acidovorax', 'possible', 'Kingella', 'Gallibacterium', 'Anaerococcus', 'Anaerobacter', 'Brachyspira', 'Kocuria', 'Cutibacterium', 'Christensenella', 'Papillibacter', 'Catabacter', 'Lysobacter', 'Actimicrobium', 'Propionicicella', 'Coprothermobacter', 'Pygmaiobacter', 'Saccharofermentans', 'Finegoldia', 'Ruminococcus2', 'Acidiphilium', 'Propionibacterium', 'Lelliottia', 'Maribacter', 'Sterolibacterium', 'Thioalkalivibrio', 'Pseudogulbenkiania', 'Aquamicrobium', 'Oceanobacillus', 'Kineosporia', 'Scardovia', 'Ochrobactrum', 'Sneathiella', 'Saccharibacteria_genera_incertae_sedis', 'Insolitispirillum', 'Dysgonomonas', 'Acidipila', 'Paraeggerthella', 'Virgibacillus', 'Magnetospirillum', 'Rummeliibacillus', 'Anaerospora', 'Acholeplasma', 'horsej.a03', 'Oligella', 'Pannonibacter', 'Dielma', 'Mucispirillum', 'Anoxybacillus', 'Lactonifactor', 'Devosia', 'Rheinheimera', 'Piscicoccus', 'Mobilitalea', 'Lachnospiracea_incertae_sedis', 'Dyella', 'Stenotrophomonas', 'Altererythrobacter', 'Ezakiella', 'Murimonas', 'Thermus', 'Halocella', 'Clostridium_XlVa', 'UG8', 'UBA1819', 'Thalassospira', 'Actinomyces', 'Bacillus', 'Mesorhizobium', 'Undibacterium', 'Clostridium_sensu_stricto', 'X.Eubacterium.', 'Facklamia', 'Acetobacter', 'Capnocytophaga', 'Anaerocolumna', 'Asaccharospora', 'Parascardovia', 'Alcanivorax', 'Bosea', 'Flavobacterium', 'Thauera', 'Methanobacterium', 'Actinobaculum', 'Bordetella', 'Leucobacter', 'Hydrotalea', 'X.Bacteroides.', 'Roseovarius', 'UG9', 'Acetivibrio', 'Intestinimonas', 'Stomatobaculum', 'Fastidiosipila', 'Simonsiella', 'Rhizobium', 'Empedobacter', 'Sedimentibacter', 'Varibaculum', 'UG4', 'X.Clostridium.', 'Saccharothrix', 'Rhodanobacter', 'Ramlibacter', 'Lawsonella', 'Cloacibacterium', 'Ensifer', 'Daeguia', 'Erysipelotrichaceae_incertae_sedis', 'Brevibacillus', 'Cloacibacillus', 'Shuttleworthia', 'Escherichia_Shigella', 'Collimonas', 'Cetobacterium', 'Pasteurella', 'Azospirillum', 'Alicyclobacillus', 'Kosakonia', 'CAG.352', 'DTU089', 'Moraxella', 'Lentibacillus', 'Deinococcus', 'Desulfotignum', 'Turicella', 'Syntrophomonas', 'Peptostreptococcus', 'Acidithiobacillus', 'A2', 'Acidiferrobacter', 'Zoogloea', 'GCA.900066755', 'Helcococcus', 'Idiomarina', 'Aquitalea', 'Marinobacter', 'FD2005', 'Escherichia.Shigella', 'Caulobacter', 'Eisenbergiella', 'Thiovirga', 'Faecalibaculum', 'Sediminibacterium', 'GCA.900066575', 'Obesumbacterium', 'Petrobacter', 'Kiloniella', 'Vasilyevaea', 'Candidatus', 'Murdochiella', 'probable', 'Jonquetella', 'Mucilaginibacter', 'Dickeya', 'Fibrobacter', 'Filifactor', 'UG2', 'Xanthobacter', 'Franconibacter', 'Centipeda', 'Streptophyta', 'Micrococcus', 'Anaerotruncus', 'Blastococcus', 'Hyphomonas', 'Halothiobacillus', 'Pelagicola', 'Opitutus', 'Anaerofilum', 'Methylotenera', 'Marmoricola', 'Buttiauxella', 'dgA.11', 'Geobacillus', 'Nocardioides', 'Thermomonas', 'Epulopiscium', 'Colwellia', 'Dolosigranulum', 'Alkaliphilus', 'Adlercreutzia', 'Shimwellia', 'Parvimonas', 'Luteibacter', 'X.Ruminococcus.', 'Hespellia', 'Castellaniella', 'Erythromicrobium', 'Cardiobacterium', 'UG5', 'Geobacter', 'Enterorhabdus', 'Arcobacter', 'Fretibacterium', 'Flavisolibacter', 'Mycoplana', 'Microvirga', 'UG3', 'Dietzia', 'Arthrobacter', 'Sneathia', 'Succinatimonas', 'Thiobacillus', 'Anaerosporobacter', 'Alkanindiges', 'Gordonibacter', 'Kandleria', 'Kytococcus', 'Novosphingobium', 'CAG.56', 'Fusibacter', 'Yonghaparkia', 'Haliea', 'Kineococcus', 'Catonella', 'Negativibacillus', 'Frateuria', 'Vibrio', 'Pelomonas', 'Acetatifactor', 'Methylobacillus', 'Clostridium_XI', 'Limnobacter', 'Aeribacillus', 'Pseudacidovorax', 'Lachnoanaerobaculum', 'Eggerthia', 'Skermanella', 'UG7', 'Oscillospira', 'Azospira', 'Brevibacterium', 'GCA.900066225', 'Solibacillus', 'Camelimonas', 'Rhizobacter', 'Porphyrobacter', 'Salinicola', 'Leptotrichia', 'Angelakisella', 'Caldicellulosiruptor', 'Gardnerella', 'Leptospirillum', 'Hydrogenoanaerobacterium', 'Hydrogenispora', 'Herbinix', 'Vagococcus', 'Terrisporobacter', 'Pseudoduganella', 'Paeniclostridium', 'Dermabacter', 'Laribacter', 'Methylophilus', 'Halomonas', 'Thalassobius', 'Caproiciproducens', 'Alcaligenes', 'Sulfurimonas', 'Sporacetigenium', 'Magnetovibrio', 'Azovibrio', 'Ralstonia', 'Terasakiella', 'Clostridium_XlVb', 'ASF356', 'Enorma', 'Limnohabitans', 'Afipia', 'Tenacibaculum', 'Anaerovibrio', 'Thermincola', 'Actinomycetospora', 'Sideroxydans', 'Anaerovorax', 'Schwartzia', 'Staphylococcus', 'Clostridium_IV', 'Advenella', 'Prosthecobacter', 'Lachnospira', 'Luteimonas', 'Anaerobium', 'Alteromonas', 'Gracilibacillus', 'Family', 'Methylophaga', 'Abiotrophia', 'UG11', 'Alloscardovia', 'Anaeroglobus', 'UG6', 'CAG.873', 'Rubellimicrobium', 'Burkholderia', 'Synergistes', 'Sellimonas', 'Hallella', 'Nesterenkonia', 'Phenylobacterium', 'Peptoclostridium', 'Anaerobaculum', 'Aureimonas', 'Pluralibacter', 'Anaerofustis', 'Acidisphaera', 'Meiothermus', 'Aerococcus', 'UG10', 'Asaccharobacter', 'Brachymonas', 'Methylobacterium', 'Cellvibrio', 'Succiniclasticum', 'Incertae', 'Cellulosilyticum', 'Hathewaya', 'Acetitomaculum', 'Rubritepida']\n"
     ]
    }
   ],
   "source": [
    "import pandas as pd\n",
    "\n",
    "# Load the Excel files\n",
    "df1 = pd.read_csv('relative_abundance_genus_Our Raw Genus Data.csv')\n",
    "df2 = pd.read_csv('Final_combined_T1_Control genus_abundance.csv')\n",
    "\n",
    "# Assuming 'genus' is the column name that contains the genus names\n",
    "genus_list_1 = set(df1['Genus'].unique())\n",
    "genus_list_2 = set(df2['Genus'].unique())\n",
    "\n",
    "# Find common genus (present in both files)\n",
    "common_genus = list(genus_list_1.intersection(genus_list_2))\n",
    "\n",
    "# Find uncommon genus (present in file2 but not in file1)\n",
    "uncommon_genus = list(genus_list_2.difference(genus_list_1))\n",
    "\n",
    "# Output results as lists\n",
    "print('Common Genus:', len(common_genus))\n",
    "print('Common Genus:', common_genus)\n",
    "print(\"*\"*150)\n",
    "print(\"-\"*150)\n",
    "print('UnCommon Genus:', len(uncommon_genus))\n",
    "print('Uncommon Genus (in File 2 but not in File 1):', uncommon_genus)\n"
   ]
  },
  {
   "cell_type": "code",
   "execution_count": 4,
   "id": "52383925-9898-4fa1-ba7f-1f1c1b4afb3c",
   "metadata": {},
   "outputs": [],
   "source": [
    "import pandas as pd\n",
    "\n",
    "# Assuming 'genus_names' is your list of 324 genus names\n",
    "genus_names = ['Agromyces', 'Bradyrhizobium', 'Roseicyclus', 'Marinobacterium', 'Pseudoxanthomonas', 'Pediococcus', 'UG1', 'Tissierella', 'Pseudoramibacter', 'Pseudoclavibacter', 'Acidovorax', 'possible', 'Kingella', 'Gallibacterium', 'Anaerococcus', 'Anaerobacter', 'Brachyspira', 'Kocuria', 'Cutibacterium', 'Christensenella', 'Papillibacter', 'Catabacter', 'Lysobacter', 'Actimicrobium', 'Propionicicella', 'Coprothermobacter', 'Pygmaiobacter', 'Saccharofermentans', 'Finegoldia', 'Ruminococcus2', 'Acidiphilium', 'Propionibacterium', 'Lelliottia', 'Maribacter', 'Sterolibacterium', 'Thioalkalivibrio', 'Pseudogulbenkiania', 'Aquamicrobium', 'Oceanobacillus', 'Kineosporia', 'Scardovia', 'Ochrobactrum', 'Sneathiella', 'Saccharibacteria_genera_incertae_sedis', 'Insolitispirillum', 'Dysgonomonas', 'Acidipila', 'Paraeggerthella', 'Virgibacillus', 'Magnetospirillum', 'Rummeliibacillus', 'Anaerospora', 'Acholeplasma', 'horsej.a03', 'Oligella', 'Pannonibacter', 'Dielma', 'Mucispirillum', 'Anoxybacillus', 'Lactonifactor', 'Devosia', 'Rheinheimera', 'Piscicoccus', 'Mobilitalea', 'Lachnospiracea_incertae_sedis', 'Dyella', 'Stenotrophomonas', 'Altererythrobacter', 'Ezakiella', 'Murimonas', 'Thermus', 'Halocella', 'Clostridium_XlVa', 'UG8', 'UBA1819', 'Thalassospira', 'Actinomyces', 'Bacillus', 'Mesorhizobium', 'Undibacterium', 'Clostridium_sensu_stricto', 'X.Eubacterium.', 'Facklamia', 'Acetobacter', 'Capnocytophaga', 'Anaerocolumna', 'Asaccharospora', 'Parascardovia', 'Alcanivorax', 'Bosea', 'Flavobacterium', 'Thauera', 'Methanobacterium', 'Actinobaculum', 'Bordetella', 'Leucobacter', 'Hydrotalea', 'X.Bacteroides.', 'Roseovarius', 'UG9', 'Acetivibrio', 'Intestinimonas', 'Stomatobaculum', 'Fastidiosipila', 'Simonsiella', 'Rhizobium', 'Empedobacter', 'Sedimentibacter', 'Varibaculum', 'UG4', 'X.Clostridium.', 'Saccharothrix', 'Rhodanobacter', 'Ramlibacter', 'Lawsonella', 'Cloacibacterium', 'Ensifer', 'Daeguia', 'Erysipelotrichaceae_incertae_sedis', 'Brevibacillus', 'Cloacibacillus', 'Shuttleworthia', 'Escherichia_Shigella', 'Collimonas', 'Cetobacterium', 'Pasteurella', 'Azospirillum', 'Alicyclobacillus', 'Kosakonia', 'CAG.352', 'DTU089', 'Moraxella', 'Lentibacillus', 'Deinococcus', 'Desulfotignum', 'Turicella', 'Syntrophomonas', 'Peptostreptococcus', 'Acidithiobacillus', 'A2', 'Acidiferrobacter', 'Zoogloea', 'GCA.900066755', 'Helcococcus', 'Idiomarina', 'Aquitalea', 'Marinobacter', 'FD2005', 'Escherichia.Shigella', 'Caulobacter', 'Eisenbergiella', 'Thiovirga', 'Faecalibaculum', 'Sediminibacterium', 'GCA.900066575', 'Obesumbacterium', 'Petrobacter', 'Kiloniella', 'Vasilyevaea', 'Candidatus', 'Murdochiella', 'probable', 'Jonquetella', 'Mucilaginibacter', 'Dickeya', 'Fibrobacter', 'Filifactor', 'UG2', 'Xanthobacter', 'Franconibacter', 'Centipeda', 'Streptophyta', 'Micrococcus', 'Anaerotruncus', 'Blastococcus', 'Hyphomonas', 'Halothiobacillus', 'Pelagicola', 'Opitutus', 'Anaerofilum', 'Methylotenera', 'Marmoricola', 'Buttiauxella', 'dgA.11', 'Geobacillus', 'Nocardioides', 'Thermomonas', 'Epulopiscium', 'Colwellia', 'Dolosigranulum', 'Alkaliphilus', 'Adlercreutzia', 'Shimwellia', 'Parvimonas', 'Luteibacter', 'X.Ruminococcus.', 'Hespellia', 'Castellaniella', 'Erythromicrobium', 'Cardiobacterium', 'UG5', 'Geobacter', 'Enterorhabdus', 'Arcobacter', 'Fretibacterium', 'Flavisolibacter', 'Mycoplana', 'Microvirga', 'UG3', 'Dietzia', 'Arthrobacter', 'Sneathia', 'Succinatimonas', 'Thiobacillus', 'Anaerosporobacter', 'Alkanindiges', 'Gordonibacter', 'Kandleria', 'Kytococcus', 'Novosphingobium', 'CAG.56', 'Fusibacter', 'Yonghaparkia', 'Haliea', 'Kineococcus', 'Catonella', 'Negativibacillus', 'Frateuria', 'Vibrio', 'Pelomonas', 'Acetatifactor', 'Methylobacillus', 'Clostridium_XI', 'Limnobacter', 'Aeribacillus', 'Pseudacidovorax', 'Lachnoanaerobaculum', 'Eggerthia', 'Skermanella', 'UG7', 'Oscillospira', 'Azospira', 'Brevibacterium', 'GCA.900066225', 'Solibacillus', 'Camelimonas', 'Rhizobacter', 'Porphyrobacter', 'Salinicola', 'Leptotrichia', 'Angelakisella', 'Caldicellulosiruptor', 'Gardnerella', 'Leptospirillum', 'Hydrogenoanaerobacterium', 'Hydrogenispora', 'Herbinix', 'Vagococcus', 'Terrisporobacter', 'Pseudoduganella', 'Paeniclostridium', 'Dermabacter', 'Laribacter', 'Methylophilus', 'Halomonas', 'Thalassobius', 'Caproiciproducens', 'Alcaligenes', 'Sulfurimonas', 'Sporacetigenium', 'Magnetovibrio', 'Azovibrio', 'Ralstonia', 'Terasakiella', 'Clostridium_XlVb', 'ASF356', 'Enorma', 'Limnohabitans', 'Afipia', 'Tenacibaculum', 'Anaerovibrio', 'Thermincola', 'Actinomycetospora', 'Sideroxydans', 'Anaerovorax', 'Schwartzia', 'Staphylococcus', 'Clostridium_IV', 'Advenella', 'Prosthecobacter', 'Lachnospira', 'Luteimonas', 'Anaerobium', 'Alteromonas', 'Gracilibacillus', 'Family', 'Methylophaga', 'Abiotrophia', 'UG11', 'Alloscardovia', 'Anaeroglobus', 'UG6', 'CAG.873', 'Rubellimicrobium', 'Burkholderia', 'Synergistes', 'Sellimonas', 'Hallella', 'Nesterenkonia', 'Phenylobacterium', 'Peptoclostridium', 'Anaerobaculum', 'Aureimonas', 'Pluralibacter', 'Anaerofustis', 'Acidisphaera', 'Meiothermus', 'Aerococcus', 'UG10', 'Asaccharobacter', 'Brachymonas', 'Methylobacterium', 'Cellvibrio', 'Succiniclasticum', 'Incertae', 'Cellulosilyticum', 'Hathewaya', 'Acetitomaculum', 'Rubritepida']\n",
    "genus = pd.read_csv(r\"Final_combined_T1_Control genus_abundance.csv\").set_index(\"Genus\").fillna(0)\n",
    "\n",
    "# Filtering rows based on the list of genus names\n",
    "genus_filtered = genus[~genus.index.isin(genus_names)]\n",
    "Others = genus[genus.index.isin(genus_names)]\n",
    "\n",
    "drop_raw_sum = Others.sum() # Total sum of rows with the specified genus names\n",
    "Step_1 = genus_filtered/drop_raw_sum\n",
    "Step_2 = genus_filtered/Step_1.sum()\n",
    "Step_3 = genus_filtered + Step_2\n",
    "Step_3.to_csv(\"New_modified_Control-GenusData.csv\")\n"
   ]
  },
  {
   "cell_type": "code",
   "execution_count": 5,
   "id": "2b527803-9847-4cda-9ef5-c00f2bdd9914",
   "metadata": {},
   "outputs": [],
   "source": [
    "import pandas as pd\n",
    "\n",
    "# Load the files\n",
    "file1 = pd.read_csv(\"relative_abundance_genus_Our Raw Genus Data.csv\").set_index(\"Genus\")\n",
    "file2 = pd.read_csv('New_modified_Control-GenusData.csv').set_index(\"Genus\")\n",
    "\n",
    "# Merge the files on the 'Genus' column, keeping all genus from file1\n",
    "merged_df = file1.merge(file2, on='Genus', how='left')\n",
    "\n",
    "# Fill missing values with zero\n",
    "merged_df.fillna(0, inplace=True)\n",
    "\n",
    "# Save the merged DataFrame to a new CSV file\n",
    "merged_df.to_csv('our_data_new_data_control.csv')\n",
    "\n"
   ]
  },
  {
   "cell_type": "code",
   "execution_count": null,
   "id": "0bc300a8-566c-4804-9a77-ef354b2d2748",
   "metadata": {},
   "outputs": [],
   "source": []
  },
  {
   "cell_type": "code",
   "execution_count": null,
   "id": "25da20f1-67b1-446f-8307-f4524fda7d10",
   "metadata": {},
   "outputs": [],
   "source": []
  },
  {
   "cell_type": "code",
   "execution_count": 6,
   "id": "f014d7e0-de50-48e2-bd25-d4a007a702bb",
   "metadata": {},
   "outputs": [
    {
     "name": "stdout",
     "output_type": "stream",
     "text": [
      "Common Genus: 135\n",
      "Common Genus: ['Ruminobacter', 'Uruburuella', 'Olsenella', 'Rothia', 'Morganella', 'Pseudobutyrivibrio', 'Flavonifractor', 'Campylobacter', 'Salmonella', 'Odoribacter', 'Solobacterium', 'Catenibacterium', 'Escherichia', 'Kluyvera', 'Tannerella', 'Streptococcus', 'Clostridium', 'Ruminiclostridium', 'Parasutterella', 'Marvinbryantia', 'Weissella', 'Dialister', 'Oscillibacter', 'Sporobacterium', 'Robinsoniella', 'Libanicoccus', 'Brevundimonas', 'Plesiomonas', 'Asteroleplasma', 'Sphingomonas', 'Fusobacterium', 'Acidaminococcus', 'Lachnobacterium', 'Tyzzerella', 'Alistipes', 'Bulleidia', 'Pyramidobacter', 'Butyricimonas', 'Paraprevotella', 'Holdemania', 'Gemmiger', 'Megamonas', 'Oxalobacter', 'Blautia', 'Elusimicrobium', 'Butyricicoccus', 'Klebsiella', 'Coprobacter', 'Veillonella', 'Phascolarctobacterium', 'Mannheimia', 'Shewanella', 'Photobacterium', 'Mangrovibacter', 'Succinivibrio', 'Turicibacter', 'Agathobacter', 'Bifidobacterium', 'Barnesiella', 'Romboutsia', 'Chryseobacterium', 'Acetanaerobacterium', 'Enterobacter', 'Fusicatenibacter', 'Citrobacter', 'Victivallis', 'Eggerthella', 'Paracoccus', 'Aggregatibacter', 'Allisonella', 'Roseburia', 'Actinobacillus', 'Pseudoflavonifractor', 'Raoultella', 'Selenomonas', 'Pectobacterium', 'Shigella', 'Hungatella', 'Sutterella', 'Treponema', 'Cronobacter', 'Faecalibacterium', 'Desulfovibrio', 'Parabacteroides', 'Coprococcus', 'Haemophilus', 'Helicobacter', 'Lactococcus', 'Dorea', 'Slackia', 'Neisseria', 'Anaeroplasma', 'Negativicoccus', 'Atopobium', 'Fournierella', 'Howardella', 'Collinsella', 'Prevotella', 'Pantoea', 'Serratia', 'Leclercia', 'Coprobacillus', 'Comamonas', 'Akkermansia', 'Bilophila', 'Bacteroides', 'UBA1819', 'Acinetobacter', 'Megasphaera', 'Alloprevotella', 'Subdoligranulum', 'Mitsuokella', 'Butyrivibrio', 'Gemella', 'Anaerobiospirillum', 'Moryella', 'Ruminococcus', 'Pseudomonas', 'Sarcina', 'Aeromonas', 'Senegalimassilia', 'Aerococcus', 'Lactobacillus', 'Anaerostipes', 'Peptoniphilus', 'Granulicatella', 'Eubacterium', 'Methanobrevibacter', 'Lachnoclostridium', 'Trabulsiella', 'Erwinia', 'Holdemanella', 'Intestinibacter', 'Oribacterium', 'Porphyromonas']\n",
      "****************************************************************************************************\n",
      "----------------------------------------------------------------------------------------------------\n",
      "Uncommon Genus in File 1: ['Defluviitaleaceae_UCG-011', 'CAG-352', 'Thiomicrospira', 'Gastranaerophilales', 'Yokenella', 'Lachnospiraceae_UCG-010', 'UCG-003', 'Dechloromonas', 'Phytobacter', 'Neptuniibacter', 'Colidextribacter', 'Muribaculaceae', 'Family_XIII_UCG-001', 'Pelistega', 'UCG-005', 'GCA-900066575', 'Providencia', 'Erysipelotrichaceae_UCG-003', 'UCG-002', 'Xenorhabdus', 'Enhydrobacter', 'Methylobacterium-Methylorubrum', 'Herbaspirillum', 'UCG-009', 'Incertae_Sedis', 'Alicycliphilus', 'Sphingobacterium', 'Sphingobium', 'Leuconostoc', 'NK4A214_group', 'Escherichia-Shigella', 'Ferrimonas', 'Prevotellaceae_UCG-003', 'UCG-010', 'Avibacterium', 'RF39', 'Christensenellaceae_R-7_group', 'Yersinia', 'Rikenellaceae_RC9_gut_group', 'Coriobacteriaceae_UCG-003', 'Tatumella', 'Monoglobus']\n",
      "Uncommon Genus in File 2: ['Agromyces', 'Bradyrhizobium', 'Roseicyclus', 'Marinobacterium', 'Pseudoxanthomonas', 'Pediococcus', 'UG1', 'Tissierella', 'Pseudoramibacter', 'Pseudoclavibacter', 'Acidovorax', 'possible', 'Kingella', 'Gallibacterium', 'Anaerococcus', 'Anaerobacter', 'Brachyspira', 'Kocuria', 'Cutibacterium', 'Christensenella', 'Papillibacter', 'Catabacter', 'Lysobacter', 'Actimicrobium', 'Propionicicella', 'Coprothermobacter', 'Pygmaiobacter', 'Saccharofermentans', 'Finegoldia', 'Ruminococcus2', 'Acidiphilium', 'Propionibacterium', 'Lelliottia', 'Maribacter', 'Sterolibacterium', 'Thioalkalivibrio', 'Pseudogulbenkiania', 'Aquamicrobium', 'Oceanobacillus', 'Kineosporia', 'Scardovia', 'Ochrobactrum', 'Sneathiella', 'Saccharibacteria_genera_incertae_sedis', 'Insolitispirillum', 'Dysgonomonas', 'Acidipila', 'Paraeggerthella', 'Virgibacillus', 'Magnetospirillum', 'Anaerospora', 'Rummeliibacillus', 'Acholeplasma', 'horsej.a03', 'Oligella', 'Pannonibacter', 'Dielma', 'Mucispirillum', 'Anoxybacillus', 'Lactonifactor', 'Devosia', 'Rheinheimera', 'Piscicoccus', 'Mobilitalea', 'Lachnospiracea_incertae_sedis', 'Dyella', 'Stenotrophomonas', 'Altererythrobacter', 'Ezakiella', 'Murimonas', 'Thermus', 'Halocella', 'Clostridium_XlVa', 'UG8', 'Thalassospira', 'Actinomyces', 'Bacillus', 'Mesorhizobium', 'Undibacterium', 'Clostridium_sensu_stricto', 'X.Eubacterium.', 'Facklamia', 'Acetobacter', 'Capnocytophaga', 'Anaerocolumna', 'Asaccharospora', 'Syntrophococcus', 'Parascardovia', 'Alcanivorax', 'Bosea', 'Flavobacterium', 'Thauera', 'Methanobacterium', 'Actinobaculum', 'Bordetella', 'Leucobacter', 'Hydrotalea', 'X.Bacteroides.', 'Roseovarius', 'UG9', 'Acetivibrio', 'Intestinimonas', 'Stomatobaculum', 'Fastidiosipila', 'Simonsiella', 'Rhizobium', 'Empedobacter', 'Sedimentibacter', 'Varibaculum', 'UG4', 'X.Clostridium.', 'Saccharothrix', 'Lawsonella', 'Ramlibacter', 'Rhodanobacter', 'Cloacibacterium', 'Ensifer', 'Daeguia', 'Erysipelotrichaceae_incertae_sedis', 'Brevibacillus', 'Shuttleworthia', 'Cloacibacillus', 'Escherichia_Shigella', 'Collimonas', 'Cetobacterium', 'Pasteurella', 'Azospirillum', 'Alicyclobacillus', 'Kosakonia', 'CAG.352', 'DTU089', 'Moraxella', 'Lentibacillus', 'Deinococcus', 'Desulfotignum', 'Turicella', 'Syntrophomonas', 'Peptostreptococcus', 'Acidithiobacillus', 'A2', 'Acidiferrobacter', 'Zoogloea', 'GCA.900066755', 'Helcococcus', 'Idiomarina', 'Aquitalea', 'Marinobacter', 'FD2005', 'Escherichia.Shigella', 'Eisenbergiella', 'Caulobacter', 'Thiovirga', 'Faecalibaculum', 'GCA.900066575', 'Sediminibacterium', 'Obesumbacterium', 'Petrobacter', 'Kiloniella', 'Vasilyevaea', 'Candidatus', 'Murdochiella', 'probable', 'Jonquetella', 'Mucilaginibacter', 'Dickeya', 'Fibrobacter', 'Filifactor', 'UG2', 'Erysipelatoclostridium', 'Xanthobacter', 'Franconibacter', 'Centipeda', 'Streptophyta', 'Micrococcus', 'Anaerotruncus', 'Blastococcus', 'Hyphomonas', 'Halothiobacillus', 'Pelagicola', 'Opitutus', 'Anaerofilum', 'Methylotenera', 'Marmoricola', 'Buttiauxella', 'dgA.11', 'Geobacillus', 'Nocardioides', 'Thermomonas', 'Enterococcus', 'Epulopiscium', 'Colwellia', 'Dolosigranulum', 'Paraclostridium', 'Alkaliphilus', 'Adlercreutzia', 'Shimwellia', 'Parvimonas', 'Luteibacter', 'X.Ruminococcus.', 'Hespellia', 'Castellaniella', 'Erythromicrobium', 'Cardiobacterium', 'UG5', 'Geobacter', 'Enterorhabdus', 'Arcobacter', 'Fretibacterium', 'Flavisolibacter', 'Mycoplana', 'Microvirga', 'UG3', 'Dietzia', 'Arthrobacter', 'Sneathia', 'Succinatimonas', 'Anaerosporobacter', 'Thiobacillus', 'Alkanindiges', 'Gordonibacter', 'Kandleria', 'Kytococcus', 'Novosphingobium', 'CAG.56', 'Fusibacter', 'Yonghaparkia', 'Haliea', 'Kineococcus', 'Catonella', 'Negativibacillus', 'Frateuria', 'Vibrio', 'Pelomonas', 'Corynebacterium', 'Acetatifactor', 'Methylobacillus', 'Clostridium_XI', 'Limnobacter', 'Aeribacillus', 'Pseudacidovorax', 'Lachnoanaerobaculum', 'Eggerthia', 'Skermanella', 'UG7', 'Oscillospira', 'Azospira', 'Brevibacterium', 'GCA.900066225', 'Solibacillus', 'Camelimonas', 'Rhizobacter', 'Porphyrobacter', 'Salinicola', 'Leptotrichia', 'Angelakisella', 'Caldicellulosiruptor', 'Gardnerella', 'Leptospirillum', 'Hydrogenoanaerobacterium', 'Hydrogenispora', 'Herbinix', 'Vagococcus', 'Terrisporobacter', 'Pseudoduganella', 'Paeniclostridium', 'Dermabacter', 'Laribacter', 'Methylophilus', 'Halomonas', 'Thalassobius', 'Caproiciproducens', 'Alcaligenes', 'Sulfurimonas', 'Sporacetigenium', 'Magnetovibrio', 'Azovibrio', 'Ralstonia', 'Terasakiella', 'Clostridium_XlVb', 'ASF356', 'Enorma', 'Limnohabitans', 'Afipia', 'Anaerovibrio', 'Tenacibaculum', 'Thermincola', 'Actinomycetospora', 'Sideroxydans', 'Anaerovorax', 'Schwartzia', 'Staphylococcus', 'Clostridium_IV', 'Advenella', 'Prosthecobacter', 'Lachnospira', 'Luteimonas', 'Anaerobium', 'Alteromonas', 'Gracilibacillus', 'Family', 'Methylophaga', 'Abiotrophia', 'UG11', 'Alloscardovia', 'Anaeroglobus', 'CAG.873', 'UG6', 'Rubellimicrobium', 'Burkholderia', 'Synergistes', 'Sellimonas', 'Hallella', 'Nesterenkonia', 'Phenylobacterium', 'Peptoclostridium', 'Anaerobaculum', 'Aureimonas', 'Pluralibacter', 'Peptococcus', 'Anaerofustis', 'Acidisphaera', 'Meiothermus', 'UG10', 'Asaccharobacter', 'Brachymonas', 'Methylobacterium', 'Succiniclasticum', 'Cellvibrio', 'Incertae', 'Cellulosilyticum', 'Hathewaya', 'Acetitomaculum', 'Rubritepida']\n"
     ]
    }
   ],
   "source": [
    "import pandas as pd\n",
    "\n",
    "# Load the Excel files\n",
    "df1 = pd.read_csv(\"relative_abundance_genus_Our Raw Obesity Genus Data.csv\")\n",
    "df2 = pd.read_csv('Final_combined_T1_Obesity genus_abundance.csv')\n",
    "\n",
    "# Assuming 'genus' is the column name that contains the genus names\n",
    "genus_list_1 = set(df1['Genus'].unique())\n",
    "genus_list_2 = set(df2['Genus'].unique())\n",
    "\n",
    "# Find common and uncommon genus\n",
    "common_genus = list(genus_list_1.intersection(genus_list_2))\n",
    "uncommon_genus_1 = list(genus_list_1.difference(genus_list_2))\n",
    "uncommon_genus_2 = list(genus_list_2.difference(genus_list_1))\n",
    "\n",
    "# Output results as lists\n",
    "print('Common Genus:', len(common_genus))\n",
    "print('Common Genus:', common_genus)\n",
    "print(\"*\"*100)\n",
    "print(\"-\"*100)\n",
    "print('Uncommon Genus in File 1:', uncommon_genus_1)\n",
    "print('Uncommon Genus in File 2:', uncommon_genus_2)\n"
   ]
  },
  {
   "cell_type": "code",
   "execution_count": 7,
   "id": "8793eece-57c4-4ceb-a4de-6fcd4de60206",
   "metadata": {},
   "outputs": [
    {
     "name": "stdout",
     "output_type": "stream",
     "text": [
      "Common Genus: 135\n",
      "Common Genus: ['Ruminobacter', 'Uruburuella', 'Olsenella', 'Rothia', 'Morganella', 'Pseudobutyrivibrio', 'Flavonifractor', 'Campylobacter', 'Salmonella', 'Odoribacter', 'Solobacterium', 'Catenibacterium', 'Escherichia', 'Kluyvera', 'Tannerella', 'Streptococcus', 'Clostridium', 'Ruminiclostridium', 'Parasutterella', 'Marvinbryantia', 'Weissella', 'Dialister', 'Oscillibacter', 'Sporobacterium', 'Robinsoniella', 'Libanicoccus', 'Brevundimonas', 'Plesiomonas', 'Asteroleplasma', 'Sphingomonas', 'Fusobacterium', 'Acidaminococcus', 'Lachnobacterium', 'Tyzzerella', 'Alistipes', 'Bulleidia', 'Pyramidobacter', 'Butyricimonas', 'Paraprevotella', 'Holdemania', 'Gemmiger', 'Megamonas', 'Oxalobacter', 'Blautia', 'Elusimicrobium', 'Butyricicoccus', 'Klebsiella', 'Coprobacter', 'Veillonella', 'Phascolarctobacterium', 'Mannheimia', 'Shewanella', 'Photobacterium', 'Mangrovibacter', 'Succinivibrio', 'Turicibacter', 'Agathobacter', 'Bifidobacterium', 'Barnesiella', 'Romboutsia', 'Chryseobacterium', 'Acetanaerobacterium', 'Enterobacter', 'Fusicatenibacter', 'Citrobacter', 'Victivallis', 'Eggerthella', 'Paracoccus', 'Aggregatibacter', 'Allisonella', 'Roseburia', 'Actinobacillus', 'Pseudoflavonifractor', 'Raoultella', 'Selenomonas', 'Pectobacterium', 'Shigella', 'Hungatella', 'Sutterella', 'Treponema', 'Cronobacter', 'Faecalibacterium', 'Desulfovibrio', 'Parabacteroides', 'Coprococcus', 'Haemophilus', 'Helicobacter', 'Lactococcus', 'Dorea', 'Slackia', 'Neisseria', 'Anaeroplasma', 'Negativicoccus', 'Atopobium', 'Fournierella', 'Howardella', 'Collinsella', 'Prevotella', 'Pantoea', 'Serratia', 'Leclercia', 'Coprobacillus', 'Comamonas', 'Akkermansia', 'Bilophila', 'Bacteroides', 'UBA1819', 'Acinetobacter', 'Megasphaera', 'Alloprevotella', 'Subdoligranulum', 'Mitsuokella', 'Butyrivibrio', 'Gemella', 'Anaerobiospirillum', 'Moryella', 'Ruminococcus', 'Pseudomonas', 'Sarcina', 'Aeromonas', 'Senegalimassilia', 'Aerococcus', 'Lactobacillus', 'Anaerostipes', 'Peptoniphilus', 'Granulicatella', 'Eubacterium', 'Methanobrevibacter', 'Lachnoclostridium', 'Trabulsiella', 'Erwinia', 'Holdemanella', 'Intestinibacter', 'Oribacterium', 'Porphyromonas']\n",
      "******************************************************************************************************************************************************\n",
      "------------------------------------------------------------------------------------------------------------------------------------------------------\n",
      "UnCommon Genus: 333\n",
      "Uncommon Genus (in File 2 but not in File 1): ['Agromyces', 'Bradyrhizobium', 'Roseicyclus', 'Marinobacterium', 'Pseudoxanthomonas', 'Pediococcus', 'UG1', 'Tissierella', 'Pseudoramibacter', 'Pseudoclavibacter', 'Acidovorax', 'possible', 'Kingella', 'Gallibacterium', 'Anaerococcus', 'Anaerobacter', 'Brachyspira', 'Kocuria', 'Cutibacterium', 'Christensenella', 'Papillibacter', 'Catabacter', 'Lysobacter', 'Actimicrobium', 'Propionicicella', 'Coprothermobacter', 'Pygmaiobacter', 'Saccharofermentans', 'Finegoldia', 'Ruminococcus2', 'Acidiphilium', 'Propionibacterium', 'Lelliottia', 'Maribacter', 'Sterolibacterium', 'Thioalkalivibrio', 'Pseudogulbenkiania', 'Aquamicrobium', 'Oceanobacillus', 'Kineosporia', 'Scardovia', 'Ochrobactrum', 'Sneathiella', 'Saccharibacteria_genera_incertae_sedis', 'Insolitispirillum', 'Dysgonomonas', 'Acidipila', 'Paraeggerthella', 'Virgibacillus', 'Magnetospirillum', 'Anaerospora', 'Rummeliibacillus', 'Acholeplasma', 'horsej.a03', 'Oligella', 'Pannonibacter', 'Dielma', 'Mucispirillum', 'Anoxybacillus', 'Lactonifactor', 'Devosia', 'Rheinheimera', 'Piscicoccus', 'Mobilitalea', 'Lachnospiracea_incertae_sedis', 'Dyella', 'Stenotrophomonas', 'Altererythrobacter', 'Ezakiella', 'Murimonas', 'Thermus', 'Halocella', 'Clostridium_XlVa', 'UG8', 'Thalassospira', 'Actinomyces', 'Bacillus', 'Mesorhizobium', 'Undibacterium', 'Clostridium_sensu_stricto', 'X.Eubacterium.', 'Facklamia', 'Acetobacter', 'Capnocytophaga', 'Anaerocolumna', 'Asaccharospora', 'Syntrophococcus', 'Parascardovia', 'Alcanivorax', 'Bosea', 'Flavobacterium', 'Thauera', 'Methanobacterium', 'Actinobaculum', 'Bordetella', 'Leucobacter', 'Hydrotalea', 'X.Bacteroides.', 'Roseovarius', 'UG9', 'Acetivibrio', 'Intestinimonas', 'Stomatobaculum', 'Fastidiosipila', 'Simonsiella', 'Rhizobium', 'Empedobacter', 'Sedimentibacter', 'Varibaculum', 'UG4', 'X.Clostridium.', 'Saccharothrix', 'Lawsonella', 'Ramlibacter', 'Rhodanobacter', 'Cloacibacterium', 'Ensifer', 'Daeguia', 'Erysipelotrichaceae_incertae_sedis', 'Brevibacillus', 'Shuttleworthia', 'Cloacibacillus', 'Escherichia_Shigella', 'Collimonas', 'Cetobacterium', 'Pasteurella', 'Azospirillum', 'Alicyclobacillus', 'Kosakonia', 'CAG.352', 'DTU089', 'Moraxella', 'Lentibacillus', 'Deinococcus', 'Desulfotignum', 'Turicella', 'Syntrophomonas', 'Peptostreptococcus', 'Acidithiobacillus', 'A2', 'Acidiferrobacter', 'Zoogloea', 'GCA.900066755', 'Helcococcus', 'Idiomarina', 'Aquitalea', 'Marinobacter', 'FD2005', 'Escherichia.Shigella', 'Eisenbergiella', 'Caulobacter', 'Thiovirga', 'Faecalibaculum', 'GCA.900066575', 'Sediminibacterium', 'Obesumbacterium', 'Petrobacter', 'Kiloniella', 'Vasilyevaea', 'Candidatus', 'Murdochiella', 'probable', 'Jonquetella', 'Mucilaginibacter', 'Dickeya', 'Fibrobacter', 'Filifactor', 'UG2', 'Erysipelatoclostridium', 'Xanthobacter', 'Franconibacter', 'Centipeda', 'Streptophyta', 'Micrococcus', 'Anaerotruncus', 'Blastococcus', 'Hyphomonas', 'Halothiobacillus', 'Pelagicola', 'Opitutus', 'Anaerofilum', 'Methylotenera', 'Marmoricola', 'Buttiauxella', 'dgA.11', 'Geobacillus', 'Nocardioides', 'Thermomonas', 'Enterococcus', 'Epulopiscium', 'Colwellia', 'Dolosigranulum', 'Paraclostridium', 'Alkaliphilus', 'Adlercreutzia', 'Shimwellia', 'Parvimonas', 'Luteibacter', 'X.Ruminococcus.', 'Hespellia', 'Castellaniella', 'Erythromicrobium', 'Cardiobacterium', 'UG5', 'Geobacter', 'Enterorhabdus', 'Arcobacter', 'Fretibacterium', 'Flavisolibacter', 'Mycoplana', 'Microvirga', 'UG3', 'Dietzia', 'Arthrobacter', 'Sneathia', 'Succinatimonas', 'Anaerosporobacter', 'Thiobacillus', 'Alkanindiges', 'Gordonibacter', 'Kandleria', 'Kytococcus', 'Novosphingobium', 'CAG.56', 'Fusibacter', 'Yonghaparkia', 'Haliea', 'Kineococcus', 'Catonella', 'Negativibacillus', 'Frateuria', 'Vibrio', 'Pelomonas', 'Corynebacterium', 'Acetatifactor', 'Methylobacillus', 'Clostridium_XI', 'Limnobacter', 'Aeribacillus', 'Pseudacidovorax', 'Lachnoanaerobaculum', 'Eggerthia', 'Skermanella', 'UG7', 'Oscillospira', 'Azospira', 'Brevibacterium', 'GCA.900066225', 'Solibacillus', 'Camelimonas', 'Rhizobacter', 'Porphyrobacter', 'Salinicola', 'Leptotrichia', 'Angelakisella', 'Caldicellulosiruptor', 'Gardnerella', 'Leptospirillum', 'Hydrogenoanaerobacterium', 'Hydrogenispora', 'Herbinix', 'Vagococcus', 'Terrisporobacter', 'Pseudoduganella', 'Paeniclostridium', 'Dermabacter', 'Laribacter', 'Methylophilus', 'Halomonas', 'Thalassobius', 'Caproiciproducens', 'Alcaligenes', 'Sulfurimonas', 'Sporacetigenium', 'Magnetovibrio', 'Azovibrio', 'Ralstonia', 'Terasakiella', 'Clostridium_XlVb', 'ASF356', 'Enorma', 'Limnohabitans', 'Afipia', 'Anaerovibrio', 'Tenacibaculum', 'Thermincola', 'Actinomycetospora', 'Sideroxydans', 'Anaerovorax', 'Schwartzia', 'Staphylococcus', 'Clostridium_IV', 'Advenella', 'Prosthecobacter', 'Lachnospira', 'Luteimonas', 'Anaerobium', 'Alteromonas', 'Gracilibacillus', 'Family', 'Methylophaga', 'Abiotrophia', 'UG11', 'Alloscardovia', 'Anaeroglobus', 'CAG.873', 'UG6', 'Rubellimicrobium', 'Burkholderia', 'Synergistes', 'Sellimonas', 'Hallella', 'Nesterenkonia', 'Phenylobacterium', 'Peptoclostridium', 'Anaerobaculum', 'Aureimonas', 'Pluralibacter', 'Peptococcus', 'Anaerofustis', 'Acidisphaera', 'Meiothermus', 'UG10', 'Asaccharobacter', 'Brachymonas', 'Methylobacterium', 'Succiniclasticum', 'Cellvibrio', 'Incertae', 'Cellulosilyticum', 'Hathewaya', 'Acetitomaculum', 'Rubritepida']\n"
     ]
    }
   ],
   "source": [
    "import pandas as pd\n",
    "\n",
    "# Load the Excel files\n",
    "df1 = pd.read_csv(\"relative_abundance_genus_Our Raw Obesity Genus Data.csv\")\n",
    "df2 = pd.read_csv('Final_combined_T1_Obesity genus_abundance.csv')\n",
    "\n",
    "# Assuming 'genus' is the column name that contains the genus names\n",
    "genus_list_1 = set(df1['Genus'].unique())\n",
    "genus_list_2 = set(df2['Genus'].unique())\n",
    "\n",
    "# Find common genus (present in both files)\n",
    "common_genus = list(genus_list_1.intersection(genus_list_2))\n",
    "\n",
    "# Find uncommon genus (present in file2 but not in file1)\n",
    "uncommon_genus = list(genus_list_2.difference(genus_list_1))\n",
    "\n",
    "# Output results as lists\n",
    "print('Common Genus:', len(common_genus))\n",
    "print('Common Genus:', common_genus)\n",
    "print(\"*\"*150)\n",
    "print(\"-\"*150)\n",
    "print('UnCommon Genus:', len(uncommon_genus))\n",
    "print('Uncommon Genus (in File 2 but not in File 1):', uncommon_genus)\n"
   ]
  },
  {
   "cell_type": "code",
   "execution_count": 8,
   "id": "3405f6e9-b8c0-490b-a9b8-442954f4965a",
   "metadata": {},
   "outputs": [],
   "source": [
    "import pandas as pd\n",
    "\n",
    "# Assuming 'genus_names' is your list of 333 genus names\n",
    "genus_names = ['Agromyces', 'Bradyrhizobium', 'Roseicyclus', 'Marinobacterium', 'Pseudoxanthomonas', 'Pediococcus', 'UG1', 'Tissierella', 'Pseudoramibacter', 'Pseudoclavibacter', 'Acidovorax', 'possible', 'Kingella', 'Gallibacterium', 'Anaerococcus', 'Anaerobacter', 'Brachyspira', 'Kocuria', 'Cutibacterium', 'Christensenella', 'Papillibacter', 'Catabacter', 'Lysobacter', 'Actimicrobium', 'Propionicicella', 'Coprothermobacter', 'Pygmaiobacter', 'Saccharofermentans', 'Finegoldia', 'Ruminococcus2', 'Acidiphilium', 'Propionibacterium', 'Lelliottia', 'Maribacter', 'Sterolibacterium', 'Thioalkalivibrio', 'Pseudogulbenkiania', 'Aquamicrobium', 'Oceanobacillus', 'Kineosporia', 'Scardovia', 'Ochrobactrum', 'Sneathiella', 'Saccharibacteria_genera_incertae_sedis', 'Insolitispirillum', 'Dysgonomonas', 'Acidipila', 'Paraeggerthella', 'Virgibacillus', 'Magnetospirillum', 'Anaerospora', 'Rummeliibacillus', 'Acholeplasma', 'horsej.a03', 'Oligella', 'Pannonibacter', 'Dielma', 'Mucispirillum', 'Anoxybacillus', 'Lactonifactor', 'Devosia', 'Rheinheimera', 'Piscicoccus', 'Mobilitalea', 'Lachnospiracea_incertae_sedis', 'Dyella', 'Stenotrophomonas', 'Altererythrobacter', 'Ezakiella', 'Murimonas', 'Thermus', 'Halocella', 'Clostridium_XlVa', 'UG8', 'Thalassospira', 'Actinomyces', 'Bacillus', 'Mesorhizobium', 'Undibacterium', 'Clostridium_sensu_stricto', 'X.Eubacterium.', 'Facklamia', 'Acetobacter', 'Capnocytophaga', 'Anaerocolumna', 'Asaccharospora', 'Syntrophococcus', 'Parascardovia', 'Alcanivorax', 'Bosea', 'Flavobacterium', 'Thauera', 'Methanobacterium', 'Actinobaculum', 'Bordetella', 'Leucobacter', 'Hydrotalea', 'X.Bacteroides.', 'Roseovarius', 'UG9', 'Acetivibrio', 'Intestinimonas', 'Stomatobaculum', 'Fastidiosipila', 'Simonsiella', 'Rhizobium', 'Empedobacter', 'Sedimentibacter', 'Varibaculum', 'UG4', 'X.Clostridium.', 'Saccharothrix', 'Lawsonella', 'Ramlibacter', 'Rhodanobacter', 'Cloacibacterium', 'Ensifer', 'Daeguia', 'Erysipelotrichaceae_incertae_sedis', 'Brevibacillus', 'Shuttleworthia', 'Cloacibacillus', 'Escherichia_Shigella', 'Collimonas', 'Cetobacterium', 'Pasteurella', 'Azospirillum', 'Alicyclobacillus', 'Kosakonia', 'CAG.352', 'DTU089', 'Moraxella', 'Lentibacillus', 'Deinococcus', 'Desulfotignum', 'Turicella', 'Syntrophomonas', 'Peptostreptococcus', 'Acidithiobacillus', 'A2', 'Acidiferrobacter', 'Zoogloea', 'GCA.900066755', 'Helcococcus', 'Idiomarina', 'Aquitalea', 'Marinobacter', 'FD2005', 'Escherichia.Shigella', 'Eisenbergiella', 'Caulobacter', 'Thiovirga', 'Faecalibaculum', 'GCA.900066575', 'Sediminibacterium', 'Obesumbacterium', 'Petrobacter', 'Kiloniella', 'Vasilyevaea', 'Candidatus', 'Murdochiella', 'probable', 'Jonquetella', 'Mucilaginibacter', 'Dickeya', 'Fibrobacter', 'Filifactor', 'UG2', 'Erysipelatoclostridium', 'Xanthobacter', 'Franconibacter', 'Centipeda', 'Streptophyta', 'Micrococcus', 'Anaerotruncus', 'Blastococcus', 'Hyphomonas', 'Halothiobacillus', 'Pelagicola', 'Opitutus', 'Anaerofilum', 'Methylotenera', 'Marmoricola', 'Buttiauxella', 'dgA.11', 'Geobacillus', 'Nocardioides', 'Thermomonas', 'Enterococcus', 'Epulopiscium', 'Colwellia', 'Dolosigranulum', 'Paraclostridium', 'Alkaliphilus', 'Adlercreutzia', 'Shimwellia', 'Parvimonas', 'Luteibacter', 'X.Ruminococcus.', 'Hespellia', 'Castellaniella', 'Erythromicrobium', 'Cardiobacterium', 'UG5', 'Geobacter', 'Enterorhabdus', 'Arcobacter', 'Fretibacterium', 'Flavisolibacter', 'Mycoplana', 'Microvirga', 'UG3', 'Dietzia', 'Arthrobacter', 'Sneathia', 'Succinatimonas', 'Anaerosporobacter', 'Thiobacillus', 'Alkanindiges', 'Gordonibacter', 'Kandleria', 'Kytococcus', 'Novosphingobium', 'CAG.56', 'Fusibacter', 'Yonghaparkia', 'Haliea', 'Kineococcus', 'Catonella', 'Negativibacillus', 'Frateuria', 'Vibrio', 'Pelomonas', 'Corynebacterium', 'Acetatifactor', 'Methylobacillus', 'Clostridium_XI', 'Limnobacter', 'Aeribacillus', 'Pseudacidovorax', 'Lachnoanaerobaculum', 'Eggerthia', 'Skermanella', 'UG7', 'Oscillospira', 'Azospira', 'Brevibacterium', 'GCA.900066225', 'Solibacillus', 'Camelimonas', 'Rhizobacter', 'Porphyrobacter', 'Salinicola', 'Leptotrichia', 'Angelakisella', 'Caldicellulosiruptor', 'Gardnerella', 'Leptospirillum', 'Hydrogenoanaerobacterium', 'Hydrogenispora', 'Herbinix', 'Vagococcus', 'Terrisporobacter', 'Pseudoduganella', 'Paeniclostridium', 'Dermabacter', 'Laribacter', 'Methylophilus', 'Halomonas', 'Thalassobius', 'Caproiciproducens', 'Alcaligenes', 'Sulfurimonas', 'Sporacetigenium', 'Magnetovibrio', 'Azovibrio', 'Ralstonia', 'Terasakiella', 'Clostridium_XlVb', 'ASF356', 'Enorma', 'Limnohabitans', 'Afipia', 'Anaerovibrio', 'Tenacibaculum', 'Thermincola', 'Actinomycetospora', 'Sideroxydans', 'Anaerovorax', 'Schwartzia', 'Staphylococcus', 'Clostridium_IV', 'Advenella', 'Prosthecobacter', 'Lachnospira', 'Luteimonas', 'Anaerobium', 'Alteromonas', 'Gracilibacillus', 'Family', 'Methylophaga', 'Abiotrophia', 'UG11', 'Alloscardovia', 'Anaeroglobus', 'CAG.873', 'UG6', 'Rubellimicrobium', 'Burkholderia', 'Synergistes', 'Sellimonas', 'Hallella', 'Nesterenkonia', 'Phenylobacterium', 'Peptoclostridium', 'Anaerobaculum', 'Aureimonas', 'Pluralibacter', 'Peptococcus', 'Anaerofustis', 'Acidisphaera', 'Meiothermus', 'UG10', 'Asaccharobacter', 'Brachymonas', 'Methylobacterium', 'Succiniclasticum', 'Cellvibrio', 'Incertae', 'Cellulosilyticum', 'Hathewaya', 'Acetitomaculum', 'Rubritepida']\n",
    "\n",
    "genus = pd.read_csv(r\"Final_combined_T1_Obesity genus_abundance.csv\").set_index(\"Genus\").fillna(0)\n",
    "\n",
    "# Filtering rows based on the list of genus names\n",
    "genus_filtered = genus[~genus.index.isin(genus_names)]\n",
    "Others = genus[genus.index.isin(genus_names)]\n",
    "\n",
    "drop_raw_sum = Others.sum() # Total sum of rows with the specified genus names\n",
    "Step_1 = genus_filtered/drop_raw_sum\n",
    "Step_2 = genus_filtered/Step_1.sum()\n",
    "Step_3 = genus_filtered + Step_2\n",
    "Step_3.to_csv(\"New_modified_Obesity-GenusData.csv\")\n"
   ]
  },
  {
   "cell_type": "code",
   "execution_count": 9,
   "id": "e3df75f4-debd-4190-8bd9-e0b583a26cf3",
   "metadata": {},
   "outputs": [],
   "source": [
    "import pandas as pd\n",
    "\n",
    "# Load the files\n",
    "file1 = pd.read_csv(\"relative_abundance_genus_Our Raw Obesity Genus Data.csv\").set_index(\"Genus\")\n",
    "file2 = pd.read_csv('New_modified_Obesity-GenusData.csv').set_index(\"Genus\")\n",
    "\n",
    "# Merge the files on the 'Genus' column, keeping all genus from file1\n",
    "merged_df = file1.merge(file2, on='Genus', how='left')\n",
    "\n",
    "# Fill missing values with zero\n",
    "merged_df.fillna(0, inplace=True)\n",
    "\n",
    "# Save the merged DataFrame to a new CSV file\n",
    "merged_df.to_csv('our_data_new_data_obesity.csv')\n"
   ]
  },
  {
   "cell_type": "code",
   "execution_count": null,
   "id": "b9cd74db-23ce-4057-aae7-686783d273ad",
   "metadata": {},
   "outputs": [],
   "source": []
  },
  {
   "cell_type": "code",
   "execution_count": null,
   "id": "e890c053-4b04-4b8c-bfab-c1826c07925a",
   "metadata": {},
   "outputs": [],
   "source": []
  },
  {
   "cell_type": "code",
   "execution_count": null,
   "id": "d443bb84-12e9-4c0e-ba48-4c91236e832b",
   "metadata": {},
   "outputs": [],
   "source": []
  },
  {
   "cell_type": "code",
   "execution_count": null,
   "id": "2907e20f-0b9d-435d-9c60-ecfb6084fdfd",
   "metadata": {},
   "outputs": [],
   "source": []
  },
  {
   "cell_type": "code",
   "execution_count": null,
   "id": "441c89bd-408d-4624-a5bf-7347c947f952",
   "metadata": {},
   "outputs": [],
   "source": []
  }
 ],
 "metadata": {
  "kernelspec": {
   "display_name": "Python 3 (ipykernel)",
   "language": "python",
   "name": "python3"
  },
  "language_info": {
   "codemirror_mode": {
    "name": "ipython",
    "version": 3
   },
   "file_extension": ".py",
   "mimetype": "text/x-python",
   "name": "python",
   "nbconvert_exporter": "python",
   "pygments_lexer": "ipython3",
   "version": "3.12.4"
  }
 },
 "nbformat": 4,
 "nbformat_minor": 5
}
